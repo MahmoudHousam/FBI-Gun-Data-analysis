{
 "metadata": {
  "language_info": {
   "codemirror_mode": {
    "name": "ipython",
    "version": 3
   },
   "file_extension": ".py",
   "mimetype": "text/x-python",
   "name": "python",
   "nbconvert_exporter": "python",
   "pygments_lexer": "ipython3",
   "version": "3.8.3-final"
  },
  "orig_nbformat": 2,
  "kernelspec": {
   "name": "python3",
   "display_name": "Python 3",
   "language": "python"
  }
 },
 "nbformat": 4,
 "nbformat_minor": 2,
 "cells": [
  {
   "source": [
    "# Project: Investigate Gun Data in US"
   ],
   "cell_type": "markdown",
   "metadata": {}
  },
  {
   "source": [
    "## Introduction\n",
    "\n",
    "Following the implementation of the Brady act in 1994, the Federal Bureau of Investigation (FBI) developed a system to conduct background checks on individuals wanting to obtain a firearm. The system known as the National Instant Criminal Background Check System (NICS) was created in collaboration with the Buereu of Alcohol, Tabacco and Firearms and local law enforcement agencies. Since it's inception in November 1998, the FBI has released monthly data from each state and U.S territory. The FBI claims that over 300 million requests have been aprroved, and 1.5 million have been denied."
   ],
   "cell_type": "markdown",
   "metadata": {}
  },
  {
   "source": [
    "### Questions to Investigate:\n",
    "* How does `permits` changed across years?\n",
    "* In the gun shooting data, to what extent do the killed vs injured people change? \n",
    "* What is the overall trend of gun purchases?\n",
    "* Which states have the highest growth in gun registrations?"
   ],
   "cell_type": "markdown",
   "metadata": {}
  },
  {
   "cell_type": "code",
   "execution_count": 2,
   "metadata": {},
   "outputs": [],
   "source": [
    "# Imports\n",
    "import pandas as pd\n",
    "import numpy as np\n",
    "import matplotlib.pyplot as plt\n",
    "%matplotlib inline\n",
    "\n",
    "import helpers as hp\n",
    "import sweetviz as sv"
   ]
  },
  {
   "source": [
    "## Data Wrangling\n",
    "* I have surfed the internet for associated data that can help dig deeper in the provided data to extract insightful analysis. The data found was `Gun violence database` that is found here: https://www.kaggle.com/gunviolencearchive/gun-violence-database?select=mass_shootings_all.csv"
   ],
   "cell_type": "markdown",
   "metadata": {}
  },
  {
   "cell_type": "code",
   "execution_count": 4,
   "metadata": {},
   "outputs": [],
   "source": [
    "# Reading the dataset\n",
    "df_gun = pd.read_csv(\"gun_data.csv\")\n",
    "df_violence = pd.read_csv(\"mass_shootings_all.csv\")"
   ]
  },
  {
   "cell_type": "code",
   "execution_count": 5,
   "metadata": {},
   "outputs": [
    {
     "output_type": "stream",
     "name": "stdout",
     "text": [
      "<class 'pandas.core.frame.DataFrame'>\nRangeIndex: 12485 entries, 0 to 12484\nData columns (total 27 columns):\n #   Column                     Non-Null Count  Dtype  \n---  ------                     --------------  -----  \n 0   month                      12485 non-null  object \n 1   state                      12485 non-null  object \n 2   permit                     12461 non-null  float64\n 3   permit_recheck             1100 non-null   float64\n 4   handgun                    12465 non-null  float64\n 5   long_gun                   12466 non-null  float64\n 6   other                      5500 non-null   float64\n 7   multiple                   12485 non-null  int64  \n 8   admin                      12462 non-null  float64\n 9   prepawn_handgun            10542 non-null  float64\n 10  prepawn_long_gun           10540 non-null  float64\n 11  prepawn_other              5115 non-null   float64\n 12  redemption_handgun         10545 non-null  float64\n 13  redemption_long_gun        10544 non-null  float64\n 14  redemption_other           5115 non-null   float64\n 15  returned_handgun           2200 non-null   float64\n 16  returned_long_gun          2145 non-null   float64\n 17  returned_other             1815 non-null   float64\n 18  rentals_handgun            990 non-null    float64\n 19  rentals_long_gun           825 non-null    float64\n 20  private_sale_handgun       2750 non-null   float64\n 21  private_sale_long_gun      2750 non-null   float64\n 22  private_sale_other         2750 non-null   float64\n 23  return_to_seller_handgun   2475 non-null   float64\n 24  return_to_seller_long_gun  2750 non-null   float64\n 25  return_to_seller_other     2255 non-null   float64\n 26  totals                     12485 non-null  int64  \ndtypes: float64(23), int64(2), object(2)\nmemory usage: 2.6+ MB\n"
     ]
    }
   ],
   "source": [
    "# Info\n",
    "df_gun.info()"
   ]
  },
  {
   "cell_type": "code",
   "execution_count": 6,
   "metadata": {},
   "outputs": [
    {
     "output_type": "stream",
     "name": "stdout",
     "text": [
      "<class 'pandas.core.frame.DataFrame'>\nRangeIndex: 500 entries, 0 to 499\nData columns (total 7 columns):\n #   Column          Non-Null Count  Dtype  \n---  ------          --------------  -----  \n 0   Incident Date   500 non-null    object \n 1   State           500 non-null    object \n 2   City Or County  500 non-null    object \n 3   Address         498 non-null    object \n 4   # Killed        500 non-null    int64  \n 5   # Injured       500 non-null    int64  \n 6   Operations      0 non-null      float64\ndtypes: float64(1), int64(2), object(4)\nmemory usage: 27.5+ KB\n"
     ]
    }
   ],
   "source": [
    "df_violence.info()"
   ]
  },
  {
   "source": [
    "## Data Cleaning\n",
    "* Cleaning columns names only for `df_violence`\n",
    "* Data types Conversion: `df_gun['month', 'multiple', 'totals']` and `df_violence['Incident Date']` to their correct dtypes.\n",
    "* Dealing with missing values"
   ],
   "cell_type": "markdown",
   "metadata": {}
  },
  {
   "cell_type": "code",
   "execution_count": null,
   "metadata": {},
   "outputs": [],
   "source": []
  }
 ]
}