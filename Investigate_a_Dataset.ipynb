{
 "metadata": {
  "language_info": {
   "codemirror_mode": {
    "name": "ipython",
    "version": 3
   },
   "file_extension": ".py",
   "mimetype": "text/x-python",
   "name": "python",
   "nbconvert_exporter": "python",
   "pygments_lexer": "ipython3",
   "version": "3.8.3-final"
  },
  "orig_nbformat": 2,
  "kernelspec": {
   "name": "python3",
   "display_name": "Python 3",
   "language": "python"
  }
 },
 "nbformat": 4,
 "nbformat_minor": 2,
 "cells": [
  {
   "source": [
    "# Project: Investigate Gun Data in US"
   ],
   "cell_type": "markdown",
   "metadata": {}
  },
  {
   "source": [
    "## Introduction\n",
    "\n",
    "Following the implementation of the Brady act in 1994, the Federal Bureau of Investigation (FBI) developed a system to conduct background checks on individuals wanting to obtain a firearm. The system known as the National Instant Criminal Background Check System (NICS) was created in collaboration with the Buereu of Alcohol, Tabacco and Firearms and local law enforcement agencies. Since it's inception in November 1998, the FBI has released monthly data from each state and U.S territory. The FBI claims that over 300 million requests have been aprroved, and 1.5 million have been denied."
   ],
   "cell_type": "markdown",
   "metadata": {}
  },
  {
   "source": [
    "### Questions to Investigate:\n",
    "* How does `permits` changed across years?\n",
    "* In the gun shooting data, to what extent do the killed vs injured people change? \n",
    "* What is the overall trend of gun purchases?\n",
    "* Which states have the highest growth in gun registrations?"
   ],
   "cell_type": "markdown",
   "metadata": {}
  },
  {
   "cell_type": "code",
   "execution_count": 1,
   "metadata": {},
   "outputs": [],
   "source": [
    "# Imports\n",
    "import pandas as pd\n",
    "import numpy as np\n",
    "import matplotlib.pyplot as plt\n",
    "%matplotlib inline\n",
    "\n",
    "import helpers as hp\n",
    "import sweetviz as sv"
   ]
  },
  {
   "source": [
    "## Data Wrangling\n",
    "* I have surfed the internet for associated data that can help dig deeper in the provided data to extract insightful analysis. The data found was `Gun violence database` that is found here: https://www.kaggle.com/gunviolencearchive/gun-violence-database?select=mass_shootings_all.csv"
   ],
   "cell_type": "markdown",
   "metadata": {}
  },
  {
   "cell_type": "code",
   "execution_count": 2,
   "metadata": {},
   "outputs": [],
   "source": [
    "# Reading the dataset\n",
    "df_gun = pd.read_csv(\"gun_data.csv\")\n",
    "df_violence = pd.read_csv(\"mass_shootings_all.csv\")"
   ]
  },
  {
   "cell_type": "code",
   "execution_count": 3,
   "metadata": {},
   "outputs": [
    {
     "output_type": "execute_result",
     "data": {
      "text/plain": [
       "month                         object\n",
       "state                         object\n",
       "permit                       float64\n",
       "permit_recheck               float64\n",
       "handgun                      float64\n",
       "long_gun                     float64\n",
       "other                        float64\n",
       "multiple                       int64\n",
       "admin                        float64\n",
       "prepawn_handgun              float64\n",
       "prepawn_long_gun             float64\n",
       "prepawn_other                float64\n",
       "redemption_handgun           float64\n",
       "redemption_long_gun          float64\n",
       "redemption_other             float64\n",
       "returned_handgun             float64\n",
       "returned_long_gun            float64\n",
       "returned_other               float64\n",
       "rentals_handgun              float64\n",
       "rentals_long_gun             float64\n",
       "private_sale_handgun         float64\n",
       "private_sale_long_gun        float64\n",
       "private_sale_other           float64\n",
       "return_to_seller_handgun     float64\n",
       "return_to_seller_long_gun    float64\n",
       "return_to_seller_other       float64\n",
       "totals                         int64\n",
       "dtype: object"
      ]
     },
     "metadata": {},
     "execution_count": 3
    }
   ],
   "source": [
    "# Exploring data types of the dfs\n",
    "df_gun.dtypes"
   ]
  },
  {
   "cell_type": "code",
   "execution_count": 4,
   "metadata": {},
   "outputs": [
    {
     "output_type": "execute_result",
     "data": {
      "text/plain": [
       "Incident Date      object\n",
       "State              object\n",
       "City Or County     object\n",
       "Address            object\n",
       "# Killed            int64\n",
       "# Injured           int64\n",
       "Operations        float64\n",
       "dtype: object"
      ]
     },
     "metadata": {},
     "execution_count": 4
    }
   ],
   "source": [
    "# Exploring data types of the dfs\n",
    "df_violence.dtypes"
   ]
  },
  {
   "source": [
    "## Data Cleaning\n",
    "* Cleaning columns names only for `df_violence`\n",
    "* Data types Conversion: `df_gun['month', 'multiple', 'totals']` and `df_violence['Incident Date']` to their correct dtypes.\n",
    "* Dealing with missing values"
   ],
   "cell_type": "markdown",
   "metadata": {}
  },
  {
   "cell_type": "code",
   "execution_count": 5,
   "metadata": {},
   "outputs": [
    {
     "output_type": "execute_result",
     "data": {
      "text/plain": [
       "['incident_date',\n",
       " 'state',\n",
       " 'city_or_county',\n",
       " 'address',\n",
       " 'killed',\n",
       " 'injured',\n",
       " 'operations']"
      ]
     },
     "metadata": {},
     "execution_count": 5
    }
   ],
   "source": [
    "# First: clean `df_violence`\n",
    "df_violence.columns = df_violence.columns.to_series().apply(lambda x: x.strip('# ').lower().replace(' ', '_'))\n",
    "df_violence.columns.tolist()"
   ]
  },
  {
   "source": [
    "#### Data types conversion\n",
    "As shown above, there are three columns that needs data type conversion in order to do some analysis specially for the `month` and `Incident Date` column for time serires analysis. The next cell will do this conversion."
   ],
   "cell_type": "markdown",
   "metadata": {}
  },
  {
   "cell_type": "code",
   "execution_count": 6,
   "metadata": {},
   "outputs": [],
   "source": [
    "# Converting data types\n",
    "df_gun = df_gun.astype({'month':'datetime64[ns]'})\n",
    "df_violence = df_violence.astype({'incident_date':'datetime64[ns]'})"
   ]
  },
  {
   "cell_type": "code",
   "execution_count": 9,
   "metadata": {},
   "outputs": [
    {
     "output_type": "execute_result",
     "data": {
      "text/plain": [
       "month                        datetime64[ns]\n",
       "state                                object\n",
       "permit                              float64\n",
       "permit_recheck                      float64\n",
       "handgun                             float64\n",
       "long_gun                            float64\n",
       "other                               float64\n",
       "multiple                              int64\n",
       "admin                               float64\n",
       "prepawn_handgun                     float64\n",
       "prepawn_long_gun                    float64\n",
       "prepawn_other                       float64\n",
       "redemption_handgun                  float64\n",
       "redemption_long_gun                 float64\n",
       "redemption_other                    float64\n",
       "returned_handgun                    float64\n",
       "returned_long_gun                   float64\n",
       "returned_other                      float64\n",
       "rentals_handgun                     float64\n",
       "rentals_long_gun                    float64\n",
       "private_sale_handgun                float64\n",
       "private_sale_long_gun               float64\n",
       "private_sale_other                  float64\n",
       "return_to_seller_handgun            float64\n",
       "return_to_seller_long_gun           float64\n",
       "return_to_seller_other              float64\n",
       "totals                                int64\n",
       "dtype: object"
      ]
     },
     "metadata": {},
     "execution_count": 9
    }
   ],
   "source": [
    "# Making sure of conversion for df_gun\n",
    "df_gun.dtypes"
   ]
  },
  {
   "cell_type": "code",
   "execution_count": 10,
   "metadata": {},
   "outputs": [
    {
     "output_type": "execute_result",
     "data": {
      "text/plain": [
       "incident_date     datetime64[ns]\n",
       "state                     object\n",
       "city_or_county            object\n",
       "address                   object\n",
       "killed                     int64\n",
       "injured                    int64\n",
       "operations               float64\n",
       "dtype: object"
      ]
     },
     "metadata": {},
     "execution_count": 10
    }
   ],
   "source": [
    "# Making sure of conversion for df_violence\n",
    "df_violence.dtypes"
   ]
  },
  {
   "cell_type": "code",
   "execution_count": null,
   "metadata": {},
   "outputs": [],
   "source": []
  }
 ]
}